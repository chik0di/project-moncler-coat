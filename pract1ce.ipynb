{
 "cells": [
  {
   "cell_type": "code",
   "execution_count": 1,
   "metadata": {},
   "outputs": [],
   "source": [
    "import requests\n",
    "import datetime as dt \n",
    "from meteostat import Hourly, Daily\n",
    "from datetime import datetime\n",
    "from datetime import datetime, timedelta"
   ]
  },
  {
   "cell_type": "markdown",
   "metadata": {},
   "source": [
    "# OPEN WEATHER MAP API"
   ]
  },
  {
   "cell_type": "code",
   "execution_count": 3,
   "metadata": {},
   "outputs": [],
   "source": [
    "API_KEY = open('open-weather-map_api_key', 'r').read()\n",
    "CITY = 'London'"
   ]
  },
  {
   "cell_type": "markdown",
   "metadata": {},
   "source": [
    "Extracting the longitude and latitude of City from the GeocoderAPI as it's necessary for Historical Data\n",
    "\n",
    "But won't work, don't have the right plan"
   ]
  },
  {
   "cell_type": "code",
   "execution_count": null,
   "metadata": {},
   "outputs": [],
   "source": [
    "GEOCODER = \"http://api.openweathermap.org/geo/1.0/direct?\"\n",
    "# GEOCODER_US = \"http://api.openweathermap.org/geo/1.0/direct?q={CITY},{STATE},{countryCode}&limit={limit}&appid={API_KEY}\"\n",
    "# STATE = \"\" # FOR THE USA ALONE \n",
    "\n",
    "countryCode = 'GB'\n",
    "\n",
    "geo = GEOCODER + \"q=\" + CITY + \",\" + countryCode + \"&appid=\" + API_KEY\n",
    "# geo_us = GEOCODER + \"q=\" + CITY + STATE + \"&limit=\" + LIMIT + \"&appid=\" + API_KEY\n",
    "\n",
    "response = requests.get(geo).json()\n",
    "response\n",
    "longitude = str(response[0]['lon'])\n",
    "latitude = str(response[0]['lat'])# oneCall = \"https://api.openweathermap.org/data/2.5/weather?\"\n",
    "# url = oneCall + \"appid=\" + API_KEY + \"&q=\" + CITY \n",
    "\n",
    "# timeMachine =  \"https://api.openweathermap.org/data/3.0/onecall/timemachine?\"\n",
    "# dt = dt.datetime(2025, 1, 22, 0, 59, 59)\n",
    "# timestamp = int(dt.timestamp())\n",
    "# tmc = timeMachine + \"lat=\" + latitude + \"&lon=\" + longitude + \"&dt=\" + str(timestamp) + \"&appid=\" + API_KEY\n",
    "\n",
    "# OpenWeatherMap requires a separate subscription, the One Call by Call plan, to run the time machine\n",
    "\n",
    "historicalCall = \"https://history.openweathermap.org/data/2.5/history/city?\"\n",
    "dt_start = dt.datetime(2025, 1, 22, 0, 59, 59)\n",
    "dt_end = dt.datetime(2025, 1, 24, 0, 59, 59)\n",
    "timestart = int(dt_start.timestamp())\n",
    "timeend = int(dt_end.timestamp())\n",
    "start = timestart\n",
    "end = timeend\n",
    "htc = historicalCall + \"lat=\" + latitude + \"&lon=\" + longitude + \"&type=hour&start=\" + str(start) + \"&end=\" + str(end) + \"&appid=\" + API_KEY\n",
    "\n",
    "\n",
    "response = requests.get(htc).json()\n",
    "response "
   ]
  },
  {
   "cell_type": "markdown",
   "metadata": {},
   "source": [
    "Extracting current weather"
   ]
  },
  {
   "cell_type": "code",
   "execution_count": null,
   "metadata": {},
   "outputs": [],
   "source": [
    "def kelvin_to_celsius_fahrenheit(kelvin): \n",
    "    celsius = kelvin - 273.15\n",
    "    fahrenheit = celsius * (9/5) + 32\n",
    "    return celsius, fahrenheit\n",
    "\n",
    "oneCall = \"https://api.openweathermap.org/data/2.5/weather?\"\n",
    "url = oneCall + \"appid=\" + API_KEY + \"&q=\" + CITY \n",
    "\n",
    "response = requests.get(url).json()\n",
    "\n",
    "\n",
    "weather_condition = response['weather'][0]['main']\n",
    "weather_description = response['weather'][0]['description']\n",
    "\n",
    "temp_kelvin = response['main']['temp']\n",
    "temp_celsius, temp_fahrenheit = kelvin_to_celsius_fahrenheit(temp_kelvin)\n",
    "\n",
    "feels_like_kelvin = response['main']['feels_like']\n",
    "feels_like_celsius, feels_like_fahrenheit = kelvin_to_celsius_fahrenheit(feels_like_kelvin)\n",
    "\n",
    "pressure = response['main']['pressure']\n",
    "\n",
    "humidity = response['main']['humidity']\n",
    "\n",
    "sea_level = response['main']['sea_level']\n",
    "\n",
    "ground_level = response['main']['grnd_level']\n",
    "\n",
    "visibility = response['visibility']\n",
    "\n",
    "\"\"\"\n",
    "sunrise_time = dt.datetime.utcfromtimestamp(response['sys']['sunrise'] + response['timezone'])\n",
    "sunset_time  = dt.datetime.utcfromtimestamp(response['sys']['sunset'] + response['timezone'])\n",
    "\n",
    "DeprecationWarning: datetime.datetime.utcfromtimestamp() is deprecated and scheduled for removal in a future version. \n",
    "Use timezone-aware objects to represent datetimes in UTC: datetime.datetime.fromtimestamp(timestamp, datetime.UTC).\n",
    "sunrise_time = dt.datetime.utcfromtimestamp(response['sys']['sunrise'] + response['timezone'])\n",
    "\"\"\"\n",
    "\n",
    "sunset_time  = response['sys']['sunset'] + response['timezone']\n",
    "sunset = dt.datetime.fromtimestamp(sunset_time, dt.UTC)\n",
    "\n",
    "sunrise_time  = response['sys']['sunrise'] + response['timezone']\n",
    "sunrise = dt.datetime.fromtimestamp(sunset_time, dt.UTC)\n",
    "\n",
    "windspeed = response['wind']['speed']\n",
    "wnd_direction = response['wind']['deg']\n",
    "# gust_speed = response['wind']['gust']\n",
    "\n",
    "cloud_cover = response['clouds']['all']"
   ]
  },
  {
   "cell_type": "markdown",
   "metadata": {},
   "source": [
    "# WEATHER MAP API"
   ]
  },
  {
   "cell_type": "markdown",
   "metadata": {},
   "source": [
    "Get Current Weather"
   ]
  },
  {
   "cell_type": "code",
   "execution_count": 2,
   "metadata": {},
   "outputs": [
    {
     "name": "stdout",
     "output_type": "stream",
     "text": [
      "{'location': {'name': 'New York', 'region': 'New York', 'country': 'United States of America', 'lat': 40.7142, 'lon': -74.0064, 'tz_id': 'America/New_York', 'localtime_epoch': 1740436541, 'localtime': '2025-02-24 17:35'}, 'current': {'last_updated_epoch': 1740436200, 'last_updated': '2025-02-24 17:30', 'temp_c': 8.2, 'temp_f': 46.8, 'is_day': 1, 'condition': {'text': 'Sunny', 'icon': '//cdn.weatherapi.com/weather/64x64/day/113.png', 'code': 1000}, 'wind_mph': 12.3, 'wind_kph': 19.8, 'wind_degree': 173, 'wind_dir': 'S', 'pressure_mb': 1014.0, 'pressure_in': 29.95, 'precip_mm': 0.0, 'precip_in': 0.0, 'humidity': 36, 'cloud': 0, 'feelslike_c': 5.1, 'feelslike_f': 41.2, 'windchill_c': 3.6, 'windchill_f': 38.5, 'heatindex_c': 6.8, 'heatindex_f': 44.2, 'dewpoint_c': 0.6, 'dewpoint_f': 33.0, 'vis_km': 16.0, 'vis_miles': 9.0, 'uv': 0.0, 'gust_mph': 20.1, 'gust_kph': 32.3}}\n"
     ]
    }
   ],
   "source": [
    "API_KEY = open('weather_api_key', 'r').read()\n",
    "LOCATION = \"New York\" \n",
    "\n",
    "url = f\"http://api.weatherapi.com/v1/current.json?key={API_KEY}&q={LOCATION}\"\n",
    "\n",
    "response = requests.get(url)\n",
    "data = response.json()\n",
    "\n",
    "print(data)"
   ]
  },
  {
   "cell_type": "markdown",
   "metadata": {},
   "source": [
    "Get Past Hour’s Weather (History API)"
   ]
  },
  {
   "cell_type": "code",
   "execution_count": null,
   "metadata": {},
   "outputs": [],
   "source": []
  },
  {
   "cell_type": "markdown",
   "metadata": {},
   "source": [
    "Get full historical data"
   ]
  },
  {
   "cell_type": "code",
   "execution_count": null,
   "metadata": {},
   "outputs": [
    {
     "name": "stdout",
     "output_type": "stream",
     "text": [
      "{'location': {'name': 'New York', 'region': 'New York', 'country': 'United States of America', 'lat': 40.7142, 'lon': -74.0064, 'tz_id': 'America/New_York', 'localtime_epoch': 1740439301, 'localtime': '2025-02-24 18:21'}, 'forecast': {'forecastday': [{'date': '2025-01-24', 'date_epoch': 1737676800, 'day': {'maxtemp_c': 0.1, 'maxtemp_f': 32.2, 'mintemp_c': -6.3, 'mintemp_f': 20.7, 'avgtemp_c': -3.8, 'avgtemp_f': 25.2, 'maxwind_mph': 10.1, 'maxwind_kph': 16.2, 'totalprecip_mm': 0.0, 'totalprecip_in': 0.0, 'totalsnow_cm': 0.0, 'avgvis_km': 10.0, 'avgvis_miles': 6.0, 'avghumidity': 61, 'daily_will_it_rain': 0, 'daily_chance_of_rain': 0, 'daily_will_it_snow': 0, 'daily_chance_of_snow': 0, 'condition': {'text': 'Sunny', 'icon': '//cdn.weatherapi.com/weather/64x64/day/113.png', 'code': 1000}, 'uv': 2.0}, 'astro': {'sunrise': '07:13 AM', 'sunset': '05:04 PM', 'moonrise': '03:11 AM', 'moonset': '12:13 PM', 'moon_phase': 'Waning Crescent', 'moon_illumination': 28}, 'hour': [{'time_epoch': 1737694800, 'time': '2025-01-24 00:00', 'temp_c': -5.2, 'temp_f': 22.7, 'is_day': 0, 'condition': {'text': 'Clear', 'icon': '//cdn.weatherapi.com/weather/64x64/night/113.png', 'code': 1000}, 'wind_mph': 8.1, 'wind_kph': 13.0, 'wind_degree': 254, 'wind_dir': 'WSW', 'pressure_mb': 1020.0, 'pressure_in': 30.11, 'precip_mm': 0.0, 'precip_in': 0.0, 'snow_cm': 0.0, 'humidity': 68, 'cloud': 0, 'feelslike_c': -9.4, 'feelslike_f': 15.0, 'windchill_c': -9.4, 'windchill_f': 15.0, 'heatindex_c': -5.2, 'heatindex_f': 22.7, 'dewpoint_c': -10.3, 'dewpoint_f': 13.5, 'will_it_rain': 0, 'chance_of_rain': 0, 'will_it_snow': 0, 'chance_of_snow': 0, 'vis_km': 10.0, 'vis_miles': 6.0, 'gust_mph': 12.4, 'gust_kph': 20.0, 'uv': 0.0}, {'time_epoch': 1737698400, 'time': '2025-01-24 01:00', 'temp_c': -5.4, 'temp_f': 22.3, 'is_day': 0, 'condition': {'text': 'Clear', 'icon': '//cdn.weatherapi.com/weather/64x64/night/113.png', 'code': 1000}, 'wind_mph': 8.1, 'wind_kph': 13.0, 'wind_degree': 254, 'wind_dir': 'WSW', 'pressure_mb': 1019.0, 'pressure_in': 30.1, 'precip_mm': 0.0, 'precip_in': 0.0, 'snow_cm': 0.0, 'humidity': 68, 'cloud': 0, 'feelslike_c': -9.7, 'feelslike_f': 14.5, 'windchill_c': -9.7, 'windchill_f': 14.5, 'heatindex_c': -5.4, 'heatindex_f': 22.3, 'dewpoint_c': -10.3, 'dewpoint_f': 13.5, 'will_it_rain': 0, 'chance_of_rain': 0, 'will_it_snow': 0, 'chance_of_snow': 0, 'vis_km': 10.0, 'vis_miles': 6.0, 'gust_mph': 12.5, 'gust_kph': 20.2, 'uv': 0.0}, {'time_epoch': 1737702000, 'time': '2025-01-24 02:00', 'temp_c': -5.6, 'temp_f': 21.9, 'is_day': 0, 'condition': {'text': 'Clear', 'icon': '//cdn.weatherapi.com/weather/64x64/night/113.png', 'code': 1000}, 'wind_mph': 7.8, 'wind_kph': 12.6, 'wind_degree': 254, 'wind_dir': 'WSW', 'pressure_mb': 1019.0, 'pressure_in': 30.09, 'precip_mm': 0.0, 'precip_in': 0.0, 'snow_cm': 0.0, 'humidity': 69, 'cloud': 0, 'feelslike_c': -10.0, 'feelslike_f': 14.0, 'windchill_c': -10.0, 'windchill_f': 14.0, 'heatindex_c': -5.6, 'heatindex_f': 21.9, 'dewpoint_c': -10.3, 'dewpoint_f': 13.5, 'will_it_rain': 0, 'chance_of_rain': 0, 'will_it_snow': 0, 'chance_of_snow': 0, 'vis_km': 10.0, 'vis_miles': 6.0, 'gust_mph': 12.3, 'gust_kph': 19.8, 'uv': 0.0}, {'time_epoch': 1737705600, 'time': '2025-01-24 03:00', 'temp_c': -5.7, 'temp_f': 21.7, 'is_day': 0, 'condition': {'text': 'Clear', 'icon': '//cdn.weatherapi.com/weather/64x64/night/113.png', 'code': 1000}, 'wind_mph': 7.6, 'wind_kph': 12.2, 'wind_degree': 259, 'wind_dir': 'W', 'pressure_mb': 1019.0, 'pressure_in': 30.1, 'precip_mm': 0.0, 'precip_in': 0.0, 'snow_cm': 0.0, 'humidity': 70, 'cloud': 0, 'feelslike_c': -10.2, 'feelslike_f': 13.7, 'windchill_c': -10.2, 'windchill_f': 13.7, 'heatindex_c': -5.7, 'heatindex_f': 21.7, 'dewpoint_c': -10.4, 'dewpoint_f': 13.3, 'will_it_rain': 0, 'chance_of_rain': 0, 'will_it_snow': 0, 'chance_of_snow': 0, 'vis_km': 10.0, 'vis_miles': 6.0, 'gust_mph': 12.1, 'gust_kph': 19.5, 'uv': 0.0}, {'time_epoch': 1737709200, 'time': '2025-01-24 04:00', 'temp_c': -5.9, 'temp_f': 21.4, 'is_day': 0, 'condition': {'text': 'Clear', 'icon': '//cdn.weatherapi.com/weather/64x64/night/113.png', 'code': 1000}, 'wind_mph': 7.4, 'wind_kph': 11.9, 'wind_degree': 264, 'wind_dir': 'W', 'pressure_mb': 1019.0, 'pressure_in': 30.1, 'precip_mm': 0.0, 'precip_in': 0.0, 'snow_cm': 0.0, 'humidity': 70, 'cloud': 0, 'feelslike_c': -10.4, 'feelslike_f': 13.4, 'windchill_c': -10.4, 'windchill_f': 13.4, 'heatindex_c': -5.9, 'heatindex_f': 21.4, 'dewpoint_c': -10.5, 'dewpoint_f': 13.2, 'will_it_rain': 0, 'chance_of_rain': 0, 'will_it_snow': 0, 'chance_of_snow': 0, 'vis_km': 10.0, 'vis_miles': 6.0, 'gust_mph': 11.8, 'gust_kph': 19.0, 'uv': 0.0}, {'time_epoch': 1737712800, 'time': '2025-01-24 05:00', 'temp_c': -6.0, 'temp_f': 21.1, 'is_day': 0, 'condition': {'text': 'Clear', 'icon': '//cdn.weatherapi.com/weather/64x64/night/113.png', 'code': 1000}, 'wind_mph': 7.2, 'wind_kph': 11.5, 'wind_degree': 268, 'wind_dir': 'W', 'pressure_mb': 1019.0, 'pressure_in': 30.1, 'precip_mm': 0.0, 'precip_in': 0.0, 'snow_cm': 0.0, 'humidity': 70, 'cloud': 0, 'feelslike_c': -10.6, 'feelslike_f': 13.0, 'windchill_c': -10.6, 'windchill_f': 13.0, 'heatindex_c': -6.0, 'heatindex_f': 21.1, 'dewpoint_c': -10.5, 'dewpoint_f': 13.1, 'will_it_rain': 0, 'chance_of_rain': 0, 'will_it_snow': 0, 'chance_of_snow': 0, 'vis_km': 10.0, 'vis_miles': 6.0, 'gust_mph': 11.4, 'gust_kph': 18.4, 'uv': 0.0}, {'time_epoch': 1737716400, 'time': '2025-01-24 06:00', 'temp_c': -6.2, 'temp_f': 20.9, 'is_day': 0, 'condition': {'text': 'Clear', 'icon': '//cdn.weatherapi.com/weather/64x64/night/113.png', 'code': 1000}, 'wind_mph': 6.7, 'wind_kph': 10.8, 'wind_degree': 276, 'wind_dir': 'W', 'pressure_mb': 1020.0, 'pressure_in': 30.13, 'precip_mm': 0.0, 'precip_in': 0.0, 'snow_cm': 0.0, 'humidity': 70, 'cloud': 0, 'feelslike_c': -10.8, 'feelslike_f': 12.6, 'windchill_c': -10.8, 'windchill_f': 12.6, 'heatindex_c': -6.2, 'heatindex_f': 20.9, 'dewpoint_c': -10.7, 'dewpoint_f': 12.7, 'will_it_rain': 0, 'chance_of_rain': 0, 'will_it_snow': 0, 'chance_of_snow': 0, 'vis_km': 10.0, 'vis_miles': 6.0, 'gust_mph': 10.7, 'gust_kph': 17.2, 'uv': 0.0}, {'time_epoch': 1737720000, 'time': '2025-01-24 07:00', 'temp_c': -6.3, 'temp_f': 20.7, 'is_day': 0, 'condition': {'text': 'Clear', 'icon': '//cdn.weatherapi.com/weather/64x64/night/113.png', 'code': 1000}, 'wind_mph': 6.3, 'wind_kph': 10.1, 'wind_degree': 274, 'wind_dir': 'W', 'pressure_mb': 1021.0, 'pressure_in': 30.14, 'precip_mm': 0.0, 'precip_in': 0.0, 'snow_cm': 0.0, 'humidity': 70, 'cloud': 0, 'feelslike_c': -10.9, 'feelslike_f': 12.3, 'windchill_c': -10.9, 'windchill_f': 12.3, 'heatindex_c': -6.3, 'heatindex_f': 20.7, 'dewpoint_c': -10.8, 'dewpoint_f': 12.5, 'will_it_rain': 0, 'chance_of_rain': 0, 'will_it_snow': 0, 'chance_of_snow': 0, 'vis_km': 10.0, 'vis_miles': 6.0, 'gust_mph': 10.0, 'gust_kph': 16.2, 'uv': 0.0}, {'time_epoch': 1737723600, 'time': '2025-01-24 08:00', 'temp_c': -5.7, 'temp_f': 21.8, 'is_day': 1, 'condition': {'text': 'Sunny', 'icon': '//cdn.weatherapi.com/weather/64x64/day/113.png', 'code': 1000}, 'wind_mph': 6.3, 'wind_kph': 10.1, 'wind_degree': 272, 'wind_dir': 'W', 'pressure_mb': 1021.0, 'pressure_in': 30.15, 'precip_mm': 0.0, 'precip_in': 0.0, 'snow_cm': 0.0, 'humidity': 70, 'cloud': 0, 'feelslike_c': -10.6, 'feelslike_f': 13.0, 'windchill_c': -10.6, 'windchill_f': 13.0, 'heatindex_c': -5.7, 'heatindex_f': 21.8, 'dewpoint_c': -10.9, 'dewpoint_f': 12.4, 'will_it_rain': 0, 'chance_of_rain': 0, 'will_it_snow': 0, 'chance_of_snow': 0, 'vis_km': 10.0, 'vis_miles': 6.0, 'gust_mph': 10.1, 'gust_kph': 16.3, 'uv': 2.0}, {'time_epoch': 1737727200, 'time': '2025-01-24 09:00', 'temp_c': -5.0, 'temp_f': 23.0, 'is_day': 1, 'condition': {'text': 'Sunny', 'icon': '//cdn.weatherapi.com/weather/64x64/day/113.png', 'code': 1000}, 'wind_mph': 6.0, 'wind_kph': 9.7, 'wind_degree': 272, 'wind_dir': 'W', 'pressure_mb': 1022.0, 'pressure_in': 30.17, 'precip_mm': 0.0, 'precip_in': 0.0, 'snow_cm': 0.0, 'humidity': 68, 'cloud': 0, 'feelslike_c': -10.2, 'feelslike_f': 13.7, 'windchill_c': -10.2, 'windchill_f': 13.7, 'heatindex_c': -5.0, 'heatindex_f': 23.0, 'dewpoint_c': -10.0, 'dewpoint_f': 14.0, 'will_it_rain': 0, 'chance_of_rain': 0, 'will_it_snow': 0, 'chance_of_snow': 0, 'vis_km': 10.0, 'vis_miles': 6.0, 'gust_mph': 9.4, 'gust_kph': 15.0, 'uv': 2.0}, {'time_epoch': 1737730800, 'time': '2025-01-24 10:00', 'temp_c': -4.4, 'temp_f': 24.2, 'is_day': 1, 'condition': {'text': 'Sunny', 'icon': '//cdn.weatherapi.com/weather/64x64/day/113.png', 'code': 1000}, 'wind_mph': 6.9, 'wind_kph': 11.2, 'wind_degree': 289, 'wind_dir': 'WNW', 'pressure_mb': 1022.0, 'pressure_in': 30.17, 'precip_mm': 0.0, 'precip_in': 0.0, 'snow_cm': 0.0, 'humidity': 67, 'cloud': 0, 'feelslike_c': -9.7, 'feelslike_f': 14.5, 'windchill_c': -9.7, 'windchill_f': 14.5, 'heatindex_c': -4.4, 'heatindex_f': 24.2, 'dewpoint_c': -9.5, 'dewpoint_f': 14.8, 'will_it_rain': 0, 'chance_of_rain': 0, 'will_it_snow': 0, 'chance_of_snow': 0, 'vis_km': 10.0, 'vis_miles': 6.0, 'gust_mph': 9.7, 'gust_kph': 15.6, 'uv': 2.0}, {'time_epoch': 1737734400, 'time': '2025-01-24 11:00', 'temp_c': -3.0, 'temp_f': 26.5, 'is_day': 1, 'condition': {'text': 'Sunny', 'icon': '//cdn.weatherapi.com/weather/64x64/day/113.png', 'code': 1000}, 'wind_mph': 7.4, 'wind_kph': 11.9, 'wind_degree': 301, 'wind_dir': 'WNW', 'pressure_mb': 1022.0, 'pressure_in': 30.18, 'precip_mm': 0.0, 'precip_in': 0.0, 'snow_cm': 0.0, 'humidity': 66, 'cloud': 0, 'feelslike_c': -8.4, 'feelslike_f': 16.8, 'windchill_c': -8.4, 'windchill_f': 16.8, 'heatindex_c': -3.0, 'heatindex_f': 26.5, 'dewpoint_c': -9.1, 'dewpoint_f': 15.6, 'will_it_rain': 0, 'chance_of_rain': 0, 'will_it_snow': 0, 'chance_of_snow': 0, 'vis_km': 10.0, 'vis_miles': 6.0, 'gust_mph': 9.8, 'gust_kph': 15.8, 'uv': 2.0}, {'time_epoch': 1737738000, 'time': '2025-01-24 12:00', 'temp_c': -1.9, 'temp_f': 28.6, 'is_day': 1, 'condition': {'text': 'Sunny', 'icon': '//cdn.weatherapi.com/weather/64x64/day/113.png', 'code': 1000}, 'wind_mph': 7.6, 'wind_kph': 12.2, 'wind_degree': 304, 'wind_dir': 'NW', 'pressure_mb': 1022.0, 'pressure_in': 30.17, 'precip_mm': 0.0, 'precip_in': 0.0, 'snow_cm': 0.0, 'humidity': 57, 'cloud': 0, 'feelslike_c': -7.2, 'feelslike_f': 19.0, 'windchill_c': -7.2, 'windchill_f': 19.0, 'heatindex_c': -1.9, 'heatindex_f': 28.6, 'dewpoint_c': -9.2, 'dewpoint_f': 15.5, 'will_it_rain': 0, 'chance_of_rain': 0, 'will_it_snow': 0, 'chance_of_snow': 0, 'vis_km': 10.0, 'vis_miles': 6.0, 'gust_mph': 9.8, 'gust_kph': 15.7, 'uv': 2.0}, {'time_epoch': 1737741600, 'time': '2025-01-24 13:00', 'temp_c': -0.8, 'temp_f': 30.6, 'is_day': 1, 'condition': {'text': 'Sunny', 'icon': '//cdn.weatherapi.com/weather/64x64/day/113.png', 'code': 1000}, 'wind_mph': 7.8, 'wind_kph': 12.6, 'wind_degree': 302, 'wind_dir': 'WNW', 'pressure_mb': 1022.0, 'pressure_in': 30.17, 'precip_mm': 0.0, 'precip_in': 0.0, 'snow_cm': 0.0, 'humidity': 53, 'cloud': 0, 'feelslike_c': -6.1, 'feelslike_f': 21.1, 'windchill_c': -6.1, 'windchill_f': 21.1, 'heatindex_c': -0.8, 'heatindex_f': 30.6, 'dewpoint_c': -9.2, 'dewpoint_f': 15.4, 'will_it_rain': 0, 'chance_of_rain': 0, 'will_it_snow': 0, 'chance_of_snow': 0, 'vis_km': 10.0, 'vis_miles': 6.0, 'gust_mph': 9.7, 'gust_kph': 15.6, 'uv': 2.0}, {'time_epoch': 1737745200, 'time': '2025-01-24 14:00', 'temp_c': -0.3, 'temp_f': 31.5, 'is_day': 1, 'condition': {'text': 'Sunny', 'icon': '//cdn.weatherapi.com/weather/64x64/day/113.png', 'code': 1000}, 'wind_mph': 8.1, 'wind_kph': 13.0, 'wind_degree': 301, 'wind_dir': 'WNW', 'pressure_mb': 1022.0, 'pressure_in': 30.17, 'precip_mm': 0.0, 'precip_in': 0.0, 'snow_cm': 0.0, 'humidity': 49, 'cloud': 0, 'feelslike_c': -5.5, 'feelslike_f': 22.2, 'windchill_c': -5.5, 'windchill_f': 22.2, 'heatindex_c': -0.3, 'heatindex_f': 31.5, 'dewpoint_c': -9.2, 'dewpoint_f': 15.4, 'will_it_rain': 0, 'chance_of_rain': 0, 'will_it_snow': 0, 'chance_of_snow': 0, 'vis_km': 10.0, 'vis_miles': 6.0, 'gust_mph': 10.0, 'gust_kph': 16.0, 'uv': 2.0}, {'time_epoch': 1737748800, 'time': '2025-01-24 15:00', 'temp_c': -0.0, 'temp_f': 32.0, 'is_day': 1, 'condition': {'text': 'Sunny', 'icon': '//cdn.weatherapi.com/weather/64x64/day/113.png', 'code': 1000}, 'wind_mph': 7.8, 'wind_kph': 12.6, 'wind_degree': 305, 'wind_dir': 'NW', 'pressure_mb': 1022.0, 'pressure_in': 30.17, 'precip_mm': 0.0, 'precip_in': 0.0, 'snow_cm': 0.0, 'humidity': 48, 'cloud': 0, 'feelslike_c': -5.1, 'feelslike_f': 22.8, 'windchill_c': -5.1, 'windchill_f': 22.8, 'heatindex_c': -0.0, 'heatindex_f': 32.0, 'dewpoint_c': -9.3, 'dewpoint_f': 15.2, 'will_it_rain': 0, 'chance_of_rain': 0, 'will_it_snow': 0, 'chance_of_snow': 0, 'vis_km': 10.0, 'vis_miles': 6.0, 'gust_mph': 10.0, 'gust_kph': 16.0, 'uv': 2.0}, {'time_epoch': 1737752400, 'time': '2025-01-24 16:00', 'temp_c': 0.1, 'temp_f': 32.2, 'is_day': 1, 'condition': {'text': 'Sunny', 'icon': '//cdn.weatherapi.com/weather/64x64/day/113.png', 'code': 1000}, 'wind_mph': 8.1, 'wind_kph': 13.0, 'wind_degree': 314, 'wind_dir': 'NW', 'pressure_mb': 1022.0, 'pressure_in': 30.17, 'precip_mm': 0.0, 'precip_in': 0.0, 'snow_cm': 0.0, 'humidity': 48, 'cloud': 0, 'feelslike_c': -4.9, 'feelslike_f': 23.1, 'windchill_c': -4.9, 'windchill_f': 23.1, 'heatindex_c': 0.1, 'heatindex_f': 32.2, 'dewpoint_c': -9.4, 'dewpoint_f': 15.1, 'will_it_rain': 0, 'chance_of_rain': 0, 'will_it_snow': 0, 'chance_of_snow': 0, 'vis_km': 10.0, 'vis_miles': 6.0, 'gust_mph': 10.6, 'gust_kph': 17.1, 'uv': 2.0}, {'time_epoch': 1737756000, 'time': '2025-01-24 17:00', 'temp_c': -1.0, 'temp_f': 30.3, 'is_day': 1, 'condition': {'text': 'Sunny', 'icon': '//cdn.weatherapi.com/weather/64x64/day/113.png', 'code': 1000}, 'wind_mph': 6.9, 'wind_kph': 11.2, 'wind_degree': 322, 'wind_dir': 'NW', 'pressure_mb': 1022.0, 'pressure_in': 30.17, 'precip_mm': 0.0, 'precip_in': 0.0, 'snow_cm': 0.0, 'humidity': 48, 'cloud': 0, 'feelslike_c': -5.9, 'feelslike_f': 21.4, 'windchill_c': -5.9, 'windchill_f': 21.4, 'heatindex_c': -1.0, 'heatindex_f': 30.3, 'dewpoint_c': -9.5, 'dewpoint_f': 15.0, 'will_it_rain': 0, 'chance_of_rain': 0, 'will_it_snow': 0, 'chance_of_snow': 0, 'vis_km': 10.0, 'vis_miles': 6.0, 'gust_mph': 9.7, 'gust_kph': 15.6, 'uv': 2.0}, {'time_epoch': 1737759600, 'time': '2025-01-24 18:00', 'temp_c': -2.0, 'temp_f': 28.4, 'is_day': 0, 'condition': {'text': 'Clear', 'icon': '//cdn.weatherapi.com/weather/64x64/night/113.png', 'code': 1000}, 'wind_mph': 6.0, 'wind_kph': 9.7, 'wind_degree': 334, 'wind_dir': 'NNW', 'pressure_mb': 1023.0, 'pressure_in': 30.2, 'precip_mm': 0.0, 'precip_in': 0.0, 'snow_cm': 0.0, 'humidity': 52, 'cloud': 0, 'feelslike_c': -6.8, 'feelslike_f': 19.7, 'windchill_c': -6.8, 'windchill_f': 19.7, 'heatindex_c': -2.0, 'heatindex_f': 28.4, 'dewpoint_c': -10.6, 'dewpoint_f': 12.9, 'will_it_rain': 0, 'chance_of_rain': 0, 'will_it_snow': 0, 'chance_of_snow': 0, 'vis_km': 10.0, 'vis_miles': 6.0, 'gust_mph': 9.2, 'gust_kph': 14.8, 'uv': 0.0}, {'time_epoch': 1737763200, 'time': '2025-01-24 19:00', 'temp_c': -3.1, 'temp_f': 26.4, 'is_day': 0, 'condition': {'text': 'Clear', 'icon': '//cdn.weatherapi.com/weather/64x64/night/113.png', 'code': 1000}, 'wind_mph': 6.7, 'wind_kph': 10.8, 'wind_degree': 341, 'wind_dir': 'NNW', 'pressure_mb': 1023.0, 'pressure_in': 30.21, 'precip_mm': 0.0, 'precip_in': 0.0, 'snow_cm': 0.0, 'humidity': 53, 'cloud': 0, 'feelslike_c': -7.9, 'feelslike_f': 17.9, 'windchill_c': -7.9, 'windchill_f': 17.9, 'heatindex_c': -3.1, 'heatindex_f': 26.4, 'dewpoint_c': -11.2, 'dewpoint_f': 11.9, 'will_it_rain': 0, 'chance_of_rain': 0, 'will_it_snow': 0, 'chance_of_snow': 0, 'vis_km': 10.0, 'vis_miles': 6.0, 'gust_mph': 10.1, 'gust_kph': 16.3, 'uv': 0.0}, {'time_epoch': 1737766800, 'time': '2025-01-24 20:00', 'temp_c': -3.7, 'temp_f': 25.4, 'is_day': 0, 'condition': {'text': 'Clear', 'icon': '//cdn.weatherapi.com/weather/64x64/night/113.png', 'code': 1000}, 'wind_mph': 9.8, 'wind_kph': 15.8, 'wind_degree': 341, 'wind_dir': 'NNW', 'pressure_mb': 1024.0, 'pressure_in': 30.23, 'precip_mm': 0.0, 'precip_in': 0.0, 'snow_cm': 0.0, 'humidity': 55, 'cloud': 0, 'feelslike_c': -8.1, 'feelslike_f': 17.3, 'windchill_c': -8.1, 'windchill_f': 17.3, 'heatindex_c': -3.7, 'heatindex_f': 25.4, 'dewpoint_c': -11.8, 'dewpoint_f': 10.8, 'will_it_rain': 0, 'chance_of_rain': 0, 'will_it_snow': 0, 'chance_of_snow': 0, 'vis_km': 10.0, 'vis_miles': 6.0, 'gust_mph': 13.9, 'gust_kph': 22.4, 'uv': 0.0}, {'time_epoch': 1737770400, 'time': '2025-01-24 21:00', 'temp_c': -4.0, 'temp_f': 24.8, 'is_day': 0, 'condition': {'text': 'Clear', 'icon': '//cdn.weatherapi.com/weather/64x64/night/113.png', 'code': 1000}, 'wind_mph': 10.1, 'wind_kph': 16.2, 'wind_degree': 341, 'wind_dir': 'NNW', 'pressure_mb': 1024.0, 'pressure_in': 30.25, 'precip_mm': 0.0, 'precip_in': 0.0, 'snow_cm': 0.0, 'humidity': 54, 'cloud': 0, 'feelslike_c': -8.2, 'feelslike_f': 17.3, 'windchill_c': -8.2, 'windchill_f': 17.3, 'heatindex_c': -4.0, 'heatindex_f': 24.8, 'dewpoint_c': -12.2, 'dewpoint_f': 10.1, 'will_it_rain': 0, 'chance_of_rain': 0, 'will_it_snow': 0, 'chance_of_snow': 0, 'vis_km': 10.0, 'vis_miles': 6.0, 'gust_mph': 14.4, 'gust_kph': 23.2, 'uv': 0.0}, {'time_epoch': 1737774000, 'time': '2025-01-24 22:00', 'temp_c': -4.5, 'temp_f': 23.9, 'is_day': 0, 'condition': {'text': 'Clear', 'icon': '//cdn.weatherapi.com/weather/64x64/night/113.png', 'code': 1000}, 'wind_mph': 9.8, 'wind_kph': 15.8, 'wind_degree': 340, 'wind_dir': 'NNW', 'pressure_mb': 1025.0, 'pressure_in': 30.25, 'precip_mm': 0.0, 'precip_in': 0.0, 'snow_cm': 0.0, 'humidity': 53, 'cloud': 0, 'feelslike_c': -8.5, 'feelslike_f': 16.7, 'windchill_c': -8.5, 'windchill_f': 16.7, 'heatindex_c': -4.5, 'heatindex_f': 23.9, 'dewpoint_c': -12.4, 'dewpoint_f': 9.8, 'will_it_rain': 0, 'chance_of_rain': 0, 'will_it_snow': 0, 'chance_of_snow': 0, 'vis_km': 10.0, 'vis_miles': 6.0, 'gust_mph': 13.9, 'gust_kph': 22.4, 'uv': 0.0}, {'time_epoch': 1737777600, 'time': '2025-01-24 23:00', 'temp_c': -4.6, 'temp_f': 23.7, 'is_day': 0, 'condition': {'text': 'Clear', 'icon': '//cdn.weatherapi.com/weather/64x64/night/113.png', 'code': 1000}, 'wind_mph': 9.4, 'wind_kph': 15.1, 'wind_degree': 337, 'wind_dir': 'NNW', 'pressure_mb': 1020.0, 'pressure_in': 30.13, 'precip_mm': 0.0, 'precip_in': 0.0, 'snow_cm': 0.0, 'humidity': 66, 'cloud': 0, 'feelslike_c': -8.4, 'feelslike_f': 16.8, 'windchill_c': -8.4, 'windchill_f': 16.8, 'heatindex_c': -4.6, 'heatindex_f': 23.7, 'dewpoint_c': -10.3, 'dewpoint_f': 13.5, 'will_it_rain': 0, 'chance_of_rain': 0, 'will_it_snow': 0, 'chance_of_snow': 0, 'vis_km': 10.0, 'vis_miles': 6.0, 'gust_mph': 13.2, 'gust_kph': 21.2, 'uv': 0.0}]}]}}\n"
     ]
    }
   ],
   "source": [
    "API_KEY = open('weather_api_key', 'r').read().strip()\n",
    "LOCATION = \"New York\"\n",
    "\n",
    "start_date = datetime(2025, 1, 24)\n",
    "end_date = datetime.today()  # Gets today's date\n",
    "\n",
    "all_data = []\n",
    "\n",
    "while start_date <= end_date:\n",
    "    date_str = start_date.strftime('%Y-%m-%d')\n",
    "    url = f\"http://api.weatherapi.com/v1/history.json?key={API_KEY}&q={LOCATION}&dt={date_str}\"\n",
    "    \n",
    "    response = requests.get(url)\n",
    "    data = response.json()\n",
    "\n",
    "    if \"error\" in data:\n",
    "        print(f\"Error fetching data for {date_str}: {data['error']['message']}\")\n",
    "        break  # Stop if there's an error (e.g., exceeding free plan limits)\n",
    "\n",
    "    all_data.append(data)\n",
    "    print(f\"Fetched data for {date_str}\")\n",
    "\n",
    "    # Move to the next day\n",
    "    start_date += timedelta(days=1)"
   ]
  }
 ],
 "metadata": {
  "kernelspec": {
   "display_name": "Python 3",
   "language": "python",
   "name": "python3"
  },
  "language_info": {
   "codemirror_mode": {
    "name": "ipython",
    "version": 3
   },
   "file_extension": ".py",
   "mimetype": "text/x-python",
   "name": "python",
   "nbconvert_exporter": "python",
   "pygments_lexer": "ipython3",
   "version": "3.12.4"
  }
 },
 "nbformat": 4,
 "nbformat_minor": 2
}
